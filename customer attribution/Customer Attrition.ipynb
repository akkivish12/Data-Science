{
 "cells": [
  {
   "cell_type": "code",
   "execution_count": 1,
   "metadata": {},
   "outputs": [],
   "source": [
    "import pandas as pd\n",
    "import numpy as np\n",
    "import os\n",
    "import pandas as pd\n",
    "import sklearn\n",
    "import seaborn as sns\n",
    "# from sklearn.cross_validation import train_test_split\n",
    "# from sklearn import cross_validation\n",
    "# from sklearn import tree\n",
    "# from sklearn import svm\n",
    "from sklearn.model_selection import cross_validate\n",
    "from sklearn import ensemble\n",
    "from sklearn import neighbors\n",
    "from sklearn import metrics\n",
    "from sklearn import preprocessing\n",
    "import matplotlib.pyplot as plt\n",
    "%matplotlib inline"
   ]
  },
  {
   "cell_type": "code",
   "execution_count": 2,
   "metadata": {},
   "outputs": [],
   "source": [
    "df=pd.read_csv(\"Customer Attrition.csv\")"
   ]
  },
  {
   "cell_type": "code",
   "execution_count": 3,
   "metadata": {},
   "outputs": [
    {
     "data": {
      "text/html": [
       "<div>\n",
       "<style scoped>\n",
       "    .dataframe tbody tr th:only-of-type {\n",
       "        vertical-align: middle;\n",
       "    }\n",
       "\n",
       "    .dataframe tbody tr th {\n",
       "        vertical-align: top;\n",
       "    }\n",
       "\n",
       "    .dataframe thead th {\n",
       "        text-align: right;\n",
       "    }\n",
       "</style>\n",
       "<table border=\"1\" class=\"dataframe\">\n",
       "  <thead>\n",
       "    <tr style=\"text-align: right;\">\n",
       "      <th></th>\n",
       "      <th>recordID</th>\n",
       "      <th>state</th>\n",
       "      <th>account_length</th>\n",
       "      <th>area_code</th>\n",
       "      <th>international_plan</th>\n",
       "      <th>voice_mail_plan</th>\n",
       "      <th>number_vmail_messages</th>\n",
       "      <th>total_day_minutes</th>\n",
       "      <th>total_day_calls</th>\n",
       "      <th>total_day_charge</th>\n",
       "      <th>...</th>\n",
       "      <th>total_eve_charge</th>\n",
       "      <th>total_night_minutes</th>\n",
       "      <th>total_night_calls</th>\n",
       "      <th>total_night_charge</th>\n",
       "      <th>total_intl_minutes</th>\n",
       "      <th>total_intl_calls</th>\n",
       "      <th>total_intl_charge</th>\n",
       "      <th>number_customer_service_calls</th>\n",
       "      <th>churn</th>\n",
       "      <th>customer_id</th>\n",
       "    </tr>\n",
       "  </thead>\n",
       "  <tbody>\n",
       "    <tr>\n",
       "      <td>0</td>\n",
       "      <td>1</td>\n",
       "      <td>HI</td>\n",
       "      <td>101</td>\n",
       "      <td>510</td>\n",
       "      <td>no</td>\n",
       "      <td>no</td>\n",
       "      <td>0</td>\n",
       "      <td>70.9</td>\n",
       "      <td>123</td>\n",
       "      <td>12.05</td>\n",
       "      <td>...</td>\n",
       "      <td>18.01</td>\n",
       "      <td>236.0</td>\n",
       "      <td>73</td>\n",
       "      <td>10.62</td>\n",
       "      <td>10.6</td>\n",
       "      <td>3</td>\n",
       "      <td>2.86</td>\n",
       "      <td>3</td>\n",
       "      <td>no</td>\n",
       "      <td>23383607.0</td>\n",
       "    </tr>\n",
       "    <tr>\n",
       "      <td>1</td>\n",
       "      <td>2</td>\n",
       "      <td>MT</td>\n",
       "      <td>137</td>\n",
       "      <td>510</td>\n",
       "      <td>no</td>\n",
       "      <td>no</td>\n",
       "      <td>0</td>\n",
       "      <td>223.6</td>\n",
       "      <td>86</td>\n",
       "      <td>38.01</td>\n",
       "      <td>...</td>\n",
       "      <td>20.81</td>\n",
       "      <td>94.2</td>\n",
       "      <td>81</td>\n",
       "      <td>4.24</td>\n",
       "      <td>9.5</td>\n",
       "      <td>7</td>\n",
       "      <td>2.57</td>\n",
       "      <td>0</td>\n",
       "      <td>no</td>\n",
       "      <td>22550362.0</td>\n",
       "    </tr>\n",
       "    <tr>\n",
       "      <td>2</td>\n",
       "      <td>3</td>\n",
       "      <td>OH</td>\n",
       "      <td>103</td>\n",
       "      <td>408</td>\n",
       "      <td>no</td>\n",
       "      <td>yes</td>\n",
       "      <td>29</td>\n",
       "      <td>294.7</td>\n",
       "      <td>95</td>\n",
       "      <td>50.10</td>\n",
       "      <td>...</td>\n",
       "      <td>20.17</td>\n",
       "      <td>300.3</td>\n",
       "      <td>127</td>\n",
       "      <td>13.51</td>\n",
       "      <td>13.7</td>\n",
       "      <td>6</td>\n",
       "      <td>3.70</td>\n",
       "      <td>1</td>\n",
       "      <td>no</td>\n",
       "      <td>59063354.0</td>\n",
       "    </tr>\n",
       "    <tr>\n",
       "      <td>3</td>\n",
       "      <td>4</td>\n",
       "      <td>NM</td>\n",
       "      <td>99</td>\n",
       "      <td>415</td>\n",
       "      <td>no</td>\n",
       "      <td>no</td>\n",
       "      <td>0</td>\n",
       "      <td>216.8</td>\n",
       "      <td>123</td>\n",
       "      <td>36.86</td>\n",
       "      <td>...</td>\n",
       "      <td>10.74</td>\n",
       "      <td>220.6</td>\n",
       "      <td>82</td>\n",
       "      <td>9.93</td>\n",
       "      <td>15.7</td>\n",
       "      <td>2</td>\n",
       "      <td>4.24</td>\n",
       "      <td>1</td>\n",
       "      <td>no</td>\n",
       "      <td>25464504.0</td>\n",
       "    </tr>\n",
       "    <tr>\n",
       "      <td>4</td>\n",
       "      <td>5</td>\n",
       "      <td>SC</td>\n",
       "      <td>108</td>\n",
       "      <td>415</td>\n",
       "      <td>no</td>\n",
       "      <td>no</td>\n",
       "      <td>0</td>\n",
       "      <td>197.4</td>\n",
       "      <td>78</td>\n",
       "      <td>33.56</td>\n",
       "      <td>...</td>\n",
       "      <td>10.54</td>\n",
       "      <td>204.5</td>\n",
       "      <td>107</td>\n",
       "      <td>9.20</td>\n",
       "      <td>7.7</td>\n",
       "      <td>4</td>\n",
       "      <td>2.08</td>\n",
       "      <td>2</td>\n",
       "      <td>no</td>\n",
       "      <td>691824.0</td>\n",
       "    </tr>\n",
       "  </tbody>\n",
       "</table>\n",
       "<p>5 rows × 22 columns</p>\n",
       "</div>"
      ],
      "text/plain": [
       "   recordID state  account_length  area_code international_plan  \\\n",
       "0         1    HI             101        510                 no   \n",
       "1         2    MT             137        510                 no   \n",
       "2         3    OH             103        408                 no   \n",
       "3         4    NM              99        415                 no   \n",
       "4         5    SC             108        415                 no   \n",
       "\n",
       "  voice_mail_plan  number_vmail_messages  total_day_minutes  total_day_calls  \\\n",
       "0              no                      0               70.9              123   \n",
       "1              no                      0              223.6               86   \n",
       "2             yes                     29              294.7               95   \n",
       "3              no                      0              216.8              123   \n",
       "4              no                      0              197.4               78   \n",
       "\n",
       "   total_day_charge  ...  total_eve_charge  total_night_minutes  \\\n",
       "0             12.05  ...             18.01                236.0   \n",
       "1             38.01  ...             20.81                 94.2   \n",
       "2             50.10  ...             20.17                300.3   \n",
       "3             36.86  ...             10.74                220.6   \n",
       "4             33.56  ...             10.54                204.5   \n",
       "\n",
       "   total_night_calls  total_night_charge  total_intl_minutes  \\\n",
       "0                 73               10.62                10.6   \n",
       "1                 81                4.24                 9.5   \n",
       "2                127               13.51                13.7   \n",
       "3                 82                9.93                15.7   \n",
       "4                107                9.20                 7.7   \n",
       "\n",
       "   total_intl_calls  total_intl_charge  number_customer_service_calls  churn  \\\n",
       "0                 3               2.86                              3     no   \n",
       "1                 7               2.57                              0     no   \n",
       "2                 6               3.70                              1     no   \n",
       "3                 2               4.24                              1     no   \n",
       "4                 4               2.08                              2     no   \n",
       "\n",
       "   customer_id  \n",
       "0   23383607.0  \n",
       "1   22550362.0  \n",
       "2   59063354.0  \n",
       "3   25464504.0  \n",
       "4     691824.0  \n",
       "\n",
       "[5 rows x 22 columns]"
      ]
     },
     "execution_count": 3,
     "metadata": {},
     "output_type": "execute_result"
    }
   ],
   "source": [
    "df.head()"
   ]
  },
  {
   "cell_type": "code",
   "execution_count": 4,
   "metadata": {},
   "outputs": [
    {
     "data": {
      "image/png": "[encoded data removed]",
      "text/plain": [
       "<Figure size 432x288 with 20 Axes>"
      ]
     },
     "metadata": {
      "needs_background": "light"
     },
     "output_type": "display_data"
    }
   ],
   "source": [
    "df.hist(bins=50,sharex=False,sharey=False)\n",
    "plt.show()"
   ]
  },
  {
   "cell_type": "code",
   "execution_count": 5,
   "metadata": {},
   "outputs": [
    {
     "data": {
      "text/plain": [
       "recordID                         0\n",
       "state                            0\n",
       "account_length                   0\n",
       "area_code                        0\n",
       "international_plan               0\n",
       "voice_mail_plan                  0\n",
       "number_vmail_messages            0\n",
       "total_day_minutes                0\n",
       "total_day_calls                  0\n",
       "total_day_charge                 0\n",
       "total_eve_minutes                0\n",
       "total_eve_calls                  0\n",
       "total_eve_charge                 0\n",
       "total_night_minutes              0\n",
       "total_night_calls                0\n",
       "total_night_charge               0\n",
       "total_intl_minutes               0\n",
       "total_intl_calls                 0\n",
       "total_intl_charge                0\n",
       "number_customer_service_calls    0\n",
       "churn                            0\n",
       "customer_id                      0\n",
       "dtype: int64"
      ]
     },
     "execution_count": 5,
     "metadata": {},
     "output_type": "execute_result"
    }
   ],
   "source": [
    "df.isna().sum()"
   ]
  },
  {
   "cell_type": "code",
   "execution_count": 6,
   "metadata": {},
   "outputs": [
    {
     "data": {
      "text/plain": [
       "recordID                         1310\n",
       "state                            1355\n",
       "account_length                   1261\n",
       "area_code                        1284\n",
       "international_plan               1287\n",
       "voice_mail_plan                  1319\n",
       "number_vmail_messages            1338\n",
       "total_day_minutes                1341\n",
       "total_day_calls                  1249\n",
       "total_day_charge                 1292\n",
       "total_eve_minutes                1302\n",
       "total_eve_calls                  1240\n",
       "total_eve_charge                 1285\n",
       "total_night_minutes              1350\n",
       "total_night_calls                1307\n",
       "total_night_charge               1292\n",
       "total_intl_minutes               1234\n",
       "total_intl_calls                 1352\n",
       "total_intl_charge                1294\n",
       "number_customer_service_calls    1302\n",
       "churn                            1297\n",
       "customer_id                      1335\n",
       "dtype: int64"
      ]
     },
     "execution_count": 6,
     "metadata": {},
     "output_type": "execute_result"
    }
   ],
   "source": [
    "import random\n",
    "# ix = [(row, col) for row in range(df.shape[0]) for col in range(df.shape[1])]\n",
    "# for row, col in random.sample(ix, int((.1*len(ix)))):\n",
    "#     df.iat[row, col] = np.nan\n",
    "# replaced = collections.defaultdict(set)\n",
    "# ix = [(row, col) for row in range(df.shape[0]) for col in range(df.shape[1])]\n",
    "# random.shuffle(ix)\n",
    "# to_replace = int(round(.1*len(ix)))\n",
    "# for row, col in ix:\n",
    "#     if len(replaced[row]) < df.shape[1] - 1:\n",
    "#         df.iloc[row, col] = np.nan\n",
    "#         to_replace -= 1\n",
    "#         replaced[row].add(col)\n",
    "#         if to_replace == 0:\n",
    "#             break\n",
    "df = df.mask(np.random.random(df.shape) < .1)\n",
    "df.isna().sum()"
   ]
  },
  {
   "cell_type": "code",
   "execution_count": 7,
   "metadata": {
    "scrolled": true
   },
   "outputs": [
    {
     "data": {
      "text/html": [
       "<div>\n",
       "<style scoped>\n",
       "    .dataframe tbody tr th:only-of-type {\n",
       "        vertical-align: middle;\n",
       "    }\n",
       "\n",
       "    .dataframe tbody tr th {\n",
       "        vertical-align: top;\n",
       "    }\n",
       "\n",
       "    .dataframe thead th {\n",
       "        text-align: right;\n",
       "    }\n",
       "</style>\n",
       "<table border=\"1\" class=\"dataframe\">\n",
       "  <thead>\n",
       "    <tr style=\"text-align: right;\">\n",
       "      <th></th>\n",
       "      <th>recordID</th>\n",
       "      <th>state</th>\n",
       "      <th>account_length</th>\n",
       "      <th>area_code</th>\n",
       "      <th>international_plan</th>\n",
       "      <th>voice_mail_plan</th>\n",
       "      <th>number_vmail_messages</th>\n",
       "      <th>total_day_minutes</th>\n",
       "      <th>total_day_calls</th>\n",
       "      <th>total_day_charge</th>\n",
       "      <th>...</th>\n",
       "      <th>total_eve_charge</th>\n",
       "      <th>total_night_minutes</th>\n",
       "      <th>total_night_calls</th>\n",
       "      <th>total_night_charge</th>\n",
       "      <th>total_intl_minutes</th>\n",
       "      <th>total_intl_calls</th>\n",
       "      <th>total_intl_charge</th>\n",
       "      <th>number_customer_service_calls</th>\n",
       "      <th>churn</th>\n",
       "      <th>customer_id</th>\n",
       "    </tr>\n",
       "  </thead>\n",
       "  <tbody>\n",
       "    <tr>\n",
       "      <td>0</td>\n",
       "      <td>1.0</td>\n",
       "      <td>HI</td>\n",
       "      <td>101.0</td>\n",
       "      <td>NaN</td>\n",
       "      <td>no</td>\n",
       "      <td>no</td>\n",
       "      <td>0.0</td>\n",
       "      <td>70.9</td>\n",
       "      <td>123.0</td>\n",
       "      <td>12.05</td>\n",
       "      <td>...</td>\n",
       "      <td>18.01</td>\n",
       "      <td>236.0</td>\n",
       "      <td>73.0</td>\n",
       "      <td>10.62</td>\n",
       "      <td>10.6</td>\n",
       "      <td>3.0</td>\n",
       "      <td>2.86</td>\n",
       "      <td>3.0</td>\n",
       "      <td>no</td>\n",
       "      <td>23383607.0</td>\n",
       "    </tr>\n",
       "    <tr>\n",
       "      <td>1</td>\n",
       "      <td>2.0</td>\n",
       "      <td>MT</td>\n",
       "      <td>137.0</td>\n",
       "      <td>510.0</td>\n",
       "      <td>no</td>\n",
       "      <td>no</td>\n",
       "      <td>0.0</td>\n",
       "      <td>NaN</td>\n",
       "      <td>86.0</td>\n",
       "      <td>38.01</td>\n",
       "      <td>...</td>\n",
       "      <td>20.81</td>\n",
       "      <td>94.2</td>\n",
       "      <td>81.0</td>\n",
       "      <td>4.24</td>\n",
       "      <td>9.5</td>\n",
       "      <td>7.0</td>\n",
       "      <td>2.57</td>\n",
       "      <td>0.0</td>\n",
       "      <td>no</td>\n",
       "      <td>NaN</td>\n",
       "    </tr>\n",
       "    <tr>\n",
       "      <td>2</td>\n",
       "      <td>3.0</td>\n",
       "      <td>NaN</td>\n",
       "      <td>103.0</td>\n",
       "      <td>408.0</td>\n",
       "      <td>no</td>\n",
       "      <td>yes</td>\n",
       "      <td>29.0</td>\n",
       "      <td>294.7</td>\n",
       "      <td>95.0</td>\n",
       "      <td>50.10</td>\n",
       "      <td>...</td>\n",
       "      <td>20.17</td>\n",
       "      <td>300.3</td>\n",
       "      <td>127.0</td>\n",
       "      <td>13.51</td>\n",
       "      <td>13.7</td>\n",
       "      <td>6.0</td>\n",
       "      <td>3.70</td>\n",
       "      <td>1.0</td>\n",
       "      <td>no</td>\n",
       "      <td>59063354.0</td>\n",
       "    </tr>\n",
       "    <tr>\n",
       "      <td>3</td>\n",
       "      <td>4.0</td>\n",
       "      <td>NM</td>\n",
       "      <td>NaN</td>\n",
       "      <td>415.0</td>\n",
       "      <td>no</td>\n",
       "      <td>no</td>\n",
       "      <td>0.0</td>\n",
       "      <td>216.8</td>\n",
       "      <td>123.0</td>\n",
       "      <td>NaN</td>\n",
       "      <td>...</td>\n",
       "      <td>10.74</td>\n",
       "      <td>220.6</td>\n",
       "      <td>82.0</td>\n",
       "      <td>9.93</td>\n",
       "      <td>15.7</td>\n",
       "      <td>2.0</td>\n",
       "      <td>4.24</td>\n",
       "      <td>NaN</td>\n",
       "      <td>no</td>\n",
       "      <td>25464504.0</td>\n",
       "    </tr>\n",
       "    <tr>\n",
       "      <td>4</td>\n",
       "      <td>5.0</td>\n",
       "      <td>SC</td>\n",
       "      <td>108.0</td>\n",
       "      <td>415.0</td>\n",
       "      <td>no</td>\n",
       "      <td>no</td>\n",
       "      <td>0.0</td>\n",
       "      <td>197.4</td>\n",
       "      <td>78.0</td>\n",
       "      <td>33.56</td>\n",
       "      <td>...</td>\n",
       "      <td>10.54</td>\n",
       "      <td>NaN</td>\n",
       "      <td>107.0</td>\n",
       "      <td>9.20</td>\n",
       "      <td>7.7</td>\n",
       "      <td>4.0</td>\n",
       "      <td>2.08</td>\n",
       "      <td>NaN</td>\n",
       "      <td>no</td>\n",
       "      <td>691824.0</td>\n",
       "    </tr>\n",
       "  </tbody>\n",
       "</table>\n",
       "<p>5 rows × 22 columns</p>\n",
       "</div>"
      ],
      "text/plain": [
       "   recordID state  account_length  area_code international_plan  \\\n",
       "0       1.0    HI           101.0        NaN                 no   \n",
       "1       2.0    MT           137.0      510.0                 no   \n",
       "2       3.0   NaN           103.0      408.0                 no   \n",
       "3       4.0    NM             NaN      415.0                 no   \n",
       "4       5.0    SC           108.0      415.0                 no   \n",
       "\n",
       "  voice_mail_plan  number_vmail_messages  total_day_minutes  total_day_calls  \\\n",
       "0              no                    0.0               70.9            123.0   \n",
       "1              no                    0.0                NaN             86.0   \n",
       "2             yes                   29.0              294.7             95.0   \n",
       "3              no                    0.0              216.8            123.0   \n",
       "4              no                    0.0              197.4             78.0   \n",
       "\n",
       "   total_day_charge  ...  total_eve_charge  total_night_minutes  \\\n",
       "0             12.05  ...             18.01                236.0   \n",
       "1             38.01  ...             20.81                 94.2   \n",
       "2             50.10  ...             20.17                300.3   \n",
       "3               NaN  ...             10.74                220.6   \n",
       "4             33.56  ...             10.54                  NaN   \n",
       "\n",
       "   total_night_calls  total_night_charge  total_intl_minutes  \\\n",
       "0               73.0               10.62                10.6   \n",
       "1               81.0                4.24                 9.5   \n",
       "2              127.0               13.51                13.7   \n",
       "3               82.0                9.93                15.7   \n",
       "4              107.0                9.20                 7.7   \n",
       "\n",
       "   total_intl_calls  total_intl_charge  number_customer_service_calls  churn  \\\n",
       "0               3.0               2.86                            3.0     no   \n",
       "1               7.0               2.57                            0.0     no   \n",
       "2               6.0               3.70                            1.0     no   \n",
       "3               2.0               4.24                            NaN     no   \n",
       "4               4.0               2.08                            NaN     no   \n",
       "\n",
       "   customer_id  \n",
       "0   23383607.0  \n",
       "1          NaN  \n",
       "2   59063354.0  \n",
       "3   25464504.0  \n",
       "4     691824.0  \n",
       "\n",
       "[5 rows x 22 columns]"
      ]
     },
     "execution_count": 7,
     "metadata": {},
     "output_type": "execute_result"
    }
   ],
   "source": [
    "df.head(5)"
   ]
  },
  {
   "cell_type": "code",
   "execution_count": 8,
   "metadata": {},
   "outputs": [],
   "source": [
    "# df.hist()\n",
    "# plt.show()"
   ]
  },
  {
   "cell_type": "code",
   "execution_count": 9,
   "metadata": {},
   "outputs": [
    {
     "data": {
      "text/plain": [
       "<matplotlib.axes._subplots.AxesSubplot at 0x22900663f48>"
      ]
     },
     "execution_count": 9,
     "metadata": {},
     "output_type": "execute_result"
    },
    {
     "data": {
      "image/png": "[encoded data removed]",
      "text/plain": [
       "<Figure size 432x288 with 1 Axes>"
      ]
     },
     "metadata": {
      "needs_background": "light"
     },
     "output_type": "display_data"
    }
   ],
   "source": [
    "y=df['churn'].value_counts()\n",
    "sns.barplot(y.index,y.values)"
   ]
  },
  {
   "cell_type": "code",
   "execution_count": 10,
   "metadata": {},
   "outputs": [
    {
     "name": "stdout",
     "output_type": "stream",
     "text": [
      "Churn Percentage = 12.705553831833697\n"
     ]
    }
   ],
   "source": [
    "y_yes=df[\"churn\"][df[\"churn\"]== \"yes\"]\n",
    "print(\"Churn Percentage = \"+str((y_yes.shape[0]/df[\"churn\"].shape[0]*100)))"
   ]
  },
  {
   "cell_type": "code",
   "execution_count": 11,
   "metadata": {},
   "outputs": [
    {
     "data": {
      "text/html": [
       "<div>\n",
       "<style scoped>\n",
       "    .dataframe tbody tr th:only-of-type {\n",
       "        vertical-align: middle;\n",
       "    }\n",
       "\n",
       "    .dataframe tbody tr th {\n",
       "        vertical-align: top;\n",
       "    }\n",
       "\n",
       "    .dataframe thead th {\n",
       "        text-align: right;\n",
       "    }\n",
       "</style>\n",
       "<table border=\"1\" class=\"dataframe\">\n",
       "  <thead>\n",
       "    <tr style=\"text-align: right;\">\n",
       "      <th></th>\n",
       "      <th>recordID</th>\n",
       "      <th>account_length</th>\n",
       "      <th>area_code</th>\n",
       "      <th>number_vmail_messages</th>\n",
       "      <th>total_day_minutes</th>\n",
       "      <th>total_day_calls</th>\n",
       "      <th>total_day_charge</th>\n",
       "      <th>total_eve_minutes</th>\n",
       "      <th>total_eve_calls</th>\n",
       "      <th>total_eve_charge</th>\n",
       "      <th>total_night_minutes</th>\n",
       "      <th>total_night_calls</th>\n",
       "      <th>total_night_charge</th>\n",
       "      <th>total_intl_minutes</th>\n",
       "      <th>total_intl_calls</th>\n",
       "      <th>total_intl_charge</th>\n",
       "      <th>number_customer_service_calls</th>\n",
       "      <th>customer_id</th>\n",
       "    </tr>\n",
       "  </thead>\n",
       "  <tbody>\n",
       "    <tr>\n",
       "      <td>count</td>\n",
       "      <td>11582.000000</td>\n",
       "      <td>11631.000000</td>\n",
       "      <td>11608.000000</td>\n",
       "      <td>11554.000000</td>\n",
       "      <td>11551.000000</td>\n",
       "      <td>11643.000000</td>\n",
       "      <td>11600.000000</td>\n",
       "      <td>11590.000000</td>\n",
       "      <td>11652.000000</td>\n",
       "      <td>11607.000000</td>\n",
       "      <td>11542.000000</td>\n",
       "      <td>11585.000000</td>\n",
       "      <td>11600.000000</td>\n",
       "      <td>11658.000000</td>\n",
       "      <td>11540.000000</td>\n",
       "      <td>11598.000000</td>\n",
       "      <td>11590.000000</td>\n",
       "      <td>1.155700e+04</td>\n",
       "    </tr>\n",
       "    <tr>\n",
       "      <td>mean</td>\n",
       "      <td>6439.963910</td>\n",
       "      <td>100.812742</td>\n",
       "      <td>437.321072</td>\n",
       "      <td>7.964341</td>\n",
       "      <td>180.122544</td>\n",
       "      <td>100.198317</td>\n",
       "      <td>30.664137</td>\n",
       "      <td>200.993477</td>\n",
       "      <td>100.163749</td>\n",
       "      <td>17.066248</td>\n",
       "      <td>200.693580</td>\n",
       "      <td>99.968407</td>\n",
       "      <td>9.012003</td>\n",
       "      <td>10.237382</td>\n",
       "      <td>4.457539</td>\n",
       "      <td>2.770173</td>\n",
       "      <td>1.571096</td>\n",
       "      <td>3.156229e+11</td>\n",
       "    </tr>\n",
       "    <tr>\n",
       "      <td>std</td>\n",
       "      <td>3720.611827</td>\n",
       "      <td>39.926142</td>\n",
       "      <td>42.454718</td>\n",
       "      <td>13.613290</td>\n",
       "      <td>54.186511</td>\n",
       "      <td>19.910099</td>\n",
       "      <td>9.203844</td>\n",
       "      <td>50.634668</td>\n",
       "      <td>19.914377</td>\n",
       "      <td>4.320799</td>\n",
       "      <td>50.638457</td>\n",
       "      <td>19.731433</td>\n",
       "      <td>2.281424</td>\n",
       "      <td>2.784087</td>\n",
       "      <td>2.467506</td>\n",
       "      <td>0.752719</td>\n",
       "      <td>1.312469</td>\n",
       "      <td>3.385936e+13</td>\n",
       "    </tr>\n",
       "    <tr>\n",
       "      <td>min</td>\n",
       "      <td>1.000000</td>\n",
       "      <td>1.000000</td>\n",
       "      <td>408.000000</td>\n",
       "      <td>0.000000</td>\n",
       "      <td>0.000000</td>\n",
       "      <td>0.000000</td>\n",
       "      <td>0.000000</td>\n",
       "      <td>0.000000</td>\n",
       "      <td>0.000000</td>\n",
       "      <td>0.000000</td>\n",
       "      <td>0.000000</td>\n",
       "      <td>0.000000</td>\n",
       "      <td>0.000000</td>\n",
       "      <td>0.000000</td>\n",
       "      <td>0.000000</td>\n",
       "      <td>0.000000</td>\n",
       "      <td>0.000000</td>\n",
       "      <td>3.400000e+01</td>\n",
       "    </tr>\n",
       "    <tr>\n",
       "      <td>25%</td>\n",
       "      <td>3219.250000</td>\n",
       "      <td>74.000000</td>\n",
       "      <td>408.000000</td>\n",
       "      <td>0.000000</td>\n",
       "      <td>144.000000</td>\n",
       "      <td>87.000000</td>\n",
       "      <td>24.500000</td>\n",
       "      <td>166.900000</td>\n",
       "      <td>87.000000</td>\n",
       "      <td>14.140000</td>\n",
       "      <td>167.000000</td>\n",
       "      <td>87.000000</td>\n",
       "      <td>7.500000</td>\n",
       "      <td>8.500000</td>\n",
       "      <td>3.000000</td>\n",
       "      <td>2.300000</td>\n",
       "      <td>1.000000</td>\n",
       "      <td>2.412959e+07</td>\n",
       "    </tr>\n",
       "    <tr>\n",
       "      <td>50%</td>\n",
       "      <td>6443.500000</td>\n",
       "      <td>100.000000</td>\n",
       "      <td>415.000000</td>\n",
       "      <td>0.000000</td>\n",
       "      <td>180.000000</td>\n",
       "      <td>101.000000</td>\n",
       "      <td>30.600000</td>\n",
       "      <td>201.400000</td>\n",
       "      <td>101.000000</td>\n",
       "      <td>17.100000</td>\n",
       "      <td>200.900000</td>\n",
       "      <td>100.000000</td>\n",
       "      <td>9.020000</td>\n",
       "      <td>10.300000</td>\n",
       "      <td>4.000000</td>\n",
       "      <td>2.780000</td>\n",
       "      <td>1.000000</td>\n",
       "      <td>3.221520e+07</td>\n",
       "    </tr>\n",
       "    <tr>\n",
       "      <td>75%</td>\n",
       "      <td>9665.750000</td>\n",
       "      <td>127.000000</td>\n",
       "      <td>510.000000</td>\n",
       "      <td>19.000000</td>\n",
       "      <td>216.200000</td>\n",
       "      <td>114.000000</td>\n",
       "      <td>36.840000</td>\n",
       "      <td>235.100000</td>\n",
       "      <td>114.000000</td>\n",
       "      <td>19.970000</td>\n",
       "      <td>235.175000</td>\n",
       "      <td>113.000000</td>\n",
       "      <td>10.570000</td>\n",
       "      <td>12.075000</td>\n",
       "      <td>6.000000</td>\n",
       "      <td>3.270000</td>\n",
       "      <td>2.000000</td>\n",
       "      <td>5.535268e+07</td>\n",
       "    </tr>\n",
       "    <tr>\n",
       "      <td>max</td>\n",
       "      <td>12892.000000</td>\n",
       "      <td>243.000000</td>\n",
       "      <td>510.000000</td>\n",
       "      <td>52.000000</td>\n",
       "      <td>351.500000</td>\n",
       "      <td>165.000000</td>\n",
       "      <td>59.640000</td>\n",
       "      <td>363.700000</td>\n",
       "      <td>170.000000</td>\n",
       "      <td>30.910000</td>\n",
       "      <td>395.000000</td>\n",
       "      <td>175.000000</td>\n",
       "      <td>17.770000</td>\n",
       "      <td>20.000000</td>\n",
       "      <td>20.000000</td>\n",
       "      <td>5.400000</td>\n",
       "      <td>9.000000</td>\n",
       "      <td>3.640000e+15</td>\n",
       "    </tr>\n",
       "  </tbody>\n",
       "</table>\n",
       "</div>"
      ],
      "text/plain": [
       "           recordID  account_length     area_code  number_vmail_messages  \\\n",
       "count  11582.000000    11631.000000  11608.000000           11554.000000   \n",
       "mean    6439.963910      100.812742    437.321072               7.964341   \n",
       "std     3720.611827       39.926142     42.454718              13.613290   \n",
       "min        1.000000        1.000000    408.000000               0.000000   \n",
       "25%     3219.250000       74.000000    408.000000               0.000000   \n",
       "50%     6443.500000      100.000000    415.000000               0.000000   \n",
       "75%     9665.750000      127.000000    510.000000              19.000000   \n",
       "max    12892.000000      243.000000    510.000000              52.000000   \n",
       "\n",
       "       total_day_minutes  total_day_calls  total_day_charge  \\\n",
       "count       11551.000000     11643.000000      11600.000000   \n",
       "mean          180.122544       100.198317         30.664137   \n",
       "std            54.186511        19.910099          9.203844   \n",
       "min             0.000000         0.000000          0.000000   \n",
       "25%           144.000000        87.000000         24.500000   \n",
       "50%           180.000000       101.000000         30.600000   \n",
       "75%           216.200000       114.000000         36.840000   \n",
       "max           351.500000       165.000000         59.640000   \n",
       "\n",
       "       total_eve_minutes  total_eve_calls  total_eve_charge  \\\n",
       "count       11590.000000     11652.000000      11607.000000   \n",
       "mean          200.993477       100.163749         17.066248   \n",
       "std            50.634668        19.914377          4.320799   \n",
       "min             0.000000         0.000000          0.000000   \n",
       "25%           166.900000        87.000000         14.140000   \n",
       "50%           201.400000       101.000000         17.100000   \n",
       "75%           235.100000       114.000000         19.970000   \n",
       "max           363.700000       170.000000         30.910000   \n",
       "\n",
       "       total_night_minutes  total_night_calls  total_night_charge  \\\n",
       "count         11542.000000       11585.000000        11600.000000   \n",
       "mean            200.693580          99.968407            9.012003   \n",
       "std              50.638457          19.731433            2.281424   \n",
       "min               0.000000           0.000000            0.000000   \n",
       "25%             167.000000          87.000000            7.500000   \n",
       "50%             200.900000         100.000000            9.020000   \n",
       "75%             235.175000         113.000000           10.570000   \n",
       "max             395.000000         175.000000           17.770000   \n",
       "\n",
       "       total_intl_minutes  total_intl_calls  total_intl_charge  \\\n",
       "count        11658.000000      11540.000000       11598.000000   \n",
       "mean            10.237382          4.457539           2.770173   \n",
       "std              2.784087          2.467506           0.752719   \n",
       "min              0.000000          0.000000           0.000000   \n",
       "25%              8.500000          3.000000           2.300000   \n",
       "50%             10.300000          4.000000           2.780000   \n",
       "75%             12.075000          6.000000           3.270000   \n",
       "max             20.000000         20.000000           5.400000   \n",
       "\n",
       "       number_customer_service_calls   customer_id  \n",
       "count                   11590.000000  1.155700e+04  \n",
       "mean                        1.571096  3.156229e+11  \n",
       "std                         1.312469  3.385936e+13  \n",
       "min                         0.000000  3.400000e+01  \n",
       "25%                         1.000000  2.412959e+07  \n",
       "50%                         1.000000  3.221520e+07  \n",
       "75%                         2.000000  5.535268e+07  \n",
       "max                         9.000000  3.640000e+15  "
      ]
     },
     "execution_count": 11,
     "metadata": {},
     "output_type": "execute_result"
    }
   ],
   "source": [
    "df.describe()"
   ]
  },
  {
   "cell_type": "code",
   "execution_count": 12,
   "metadata": {},
   "outputs": [],
   "source": [
    "df.interpolate(method=\"linear\",limit_direction=\"both\",inplace=True)"
   ]
  },
  {
   "cell_type": "code",
   "execution_count": 13,
   "metadata": {},
   "outputs": [
    {
     "data": {
      "text/plain": [
       "recordID                            0\n",
       "state                            1355\n",
       "account_length                      0\n",
       "area_code                           0\n",
       "international_plan               1287\n",
       "voice_mail_plan                  1319\n",
       "number_vmail_messages               0\n",
       "total_day_minutes                   0\n",
       "total_day_calls                     0\n",
       "total_day_charge                    0\n",
       "total_eve_minutes                   0\n",
       "total_eve_calls                     0\n",
       "total_eve_charge                    0\n",
       "total_night_minutes                 0\n",
       "total_night_calls                   0\n",
       "total_night_charge                  0\n",
       "total_intl_minutes                  0\n",
       "total_intl_calls                    0\n",
       "total_intl_charge                   0\n",
       "number_customer_service_calls       0\n",
       "churn                            1297\n",
       "customer_id                         0\n",
       "dtype: int64"
      ]
     },
     "execution_count": 13,
     "metadata": {},
     "output_type": "execute_result"
    }
   ],
   "source": [
    "df.isna().sum()"
   ]
  },
  {
   "cell_type": "code",
   "execution_count": 14,
   "metadata": {},
   "outputs": [],
   "source": [
    "df.fillna(method=\"bfill\",inplace=True)\n",
    "df.fillna(method=\"ffill\",inplace=True)"
   ]
  },
  {
   "cell_type": "code",
   "execution_count": 15,
   "metadata": {},
   "outputs": [
    {
     "data": {
      "text/plain": [
       "recordID                         0\n",
       "state                            0\n",
       "account_length                   0\n",
       "area_code                        0\n",
       "international_plan               0\n",
       "voice_mail_plan                  0\n",
       "number_vmail_messages            0\n",
       "total_day_minutes                0\n",
       "total_day_calls                  0\n",
       "total_day_charge                 0\n",
       "total_eve_minutes                0\n",
       "total_eve_calls                  0\n",
       "total_eve_charge                 0\n",
       "total_night_minutes              0\n",
       "total_night_calls                0\n",
       "total_night_charge               0\n",
       "total_intl_minutes               0\n",
       "total_intl_calls                 0\n",
       "total_intl_charge                0\n",
       "number_customer_service_calls    0\n",
       "churn                            0\n",
       "customer_id                      0\n",
       "dtype: int64"
      ]
     },
     "execution_count": 15,
     "metadata": {},
     "output_type": "execute_result"
    }
   ],
   "source": [
    "df.isna().sum()"
   ]
  },
  {
   "cell_type": "code",
   "execution_count": 16,
   "metadata": {},
   "outputs": [
    {
     "name": "stdout",
     "output_type": "stream",
     "text": [
      "Churn Percentage = 14.14055228048402\n"
     ]
    }
   ],
   "source": [
    "y_yes=df[\"churn\"][df[\"churn\"]== \"yes\"]\n",
    "print(\"Churn Percentage = \"+str((y_yes.shape[0]/df[\"churn\"].shape[0]*100)))\n",
    "# 14.20 percent tend to leave "
   ]
  },
  {
   "cell_type": "code",
   "execution_count": 17,
   "metadata": {},
   "outputs": [
    {
     "data": {
      "text/html": [
       "<div>\n",
       "<style scoped>\n",
       "    .dataframe tbody tr th:only-of-type {\n",
       "        vertical-align: middle;\n",
       "    }\n",
       "\n",
       "    .dataframe tbody tr th {\n",
       "        vertical-align: top;\n",
       "    }\n",
       "\n",
       "    .dataframe thead th {\n",
       "        text-align: right;\n",
       "    }\n",
       "</style>\n",
       "<table border=\"1\" class=\"dataframe\">\n",
       "  <thead>\n",
       "    <tr style=\"text-align: right;\">\n",
       "      <th></th>\n",
       "      <th>recordID</th>\n",
       "      <th>account_length</th>\n",
       "      <th>area_code</th>\n",
       "      <th>number_vmail_messages</th>\n",
       "      <th>total_day_minutes</th>\n",
       "      <th>total_day_calls</th>\n",
       "      <th>total_day_charge</th>\n",
       "      <th>total_eve_minutes</th>\n",
       "      <th>total_eve_calls</th>\n",
       "      <th>total_eve_charge</th>\n",
       "      <th>total_night_minutes</th>\n",
       "      <th>total_night_calls</th>\n",
       "      <th>total_night_charge</th>\n",
       "      <th>total_intl_minutes</th>\n",
       "      <th>total_intl_calls</th>\n",
       "      <th>total_intl_charge</th>\n",
       "      <th>number_customer_service_calls</th>\n",
       "      <th>customer_id</th>\n",
       "    </tr>\n",
       "  </thead>\n",
       "  <tbody>\n",
       "    <tr>\n",
       "      <td>count</td>\n",
       "      <td>12892.00000</td>\n",
       "      <td>12892.000000</td>\n",
       "      <td>12892.000000</td>\n",
       "      <td>12892.000000</td>\n",
       "      <td>12892.000000</td>\n",
       "      <td>12892.000000</td>\n",
       "      <td>12892.000000</td>\n",
       "      <td>12892.000000</td>\n",
       "      <td>12892.000000</td>\n",
       "      <td>12892.000000</td>\n",
       "      <td>12892.000000</td>\n",
       "      <td>12892.000000</td>\n",
       "      <td>12892.000000</td>\n",
       "      <td>12892.000000</td>\n",
       "      <td>12892.000000</td>\n",
       "      <td>12892.000000</td>\n",
       "      <td>12892.000000</td>\n",
       "      <td>1.289200e+04</td>\n",
       "    </tr>\n",
       "    <tr>\n",
       "      <td>mean</td>\n",
       "      <td>6446.50000</td>\n",
       "      <td>100.788551</td>\n",
       "      <td>437.322797</td>\n",
       "      <td>7.930616</td>\n",
       "      <td>180.211247</td>\n",
       "      <td>100.157927</td>\n",
       "      <td>30.661140</td>\n",
       "      <td>200.957276</td>\n",
       "      <td>100.134231</td>\n",
       "      <td>17.065764</td>\n",
       "      <td>200.632780</td>\n",
       "      <td>100.062791</td>\n",
       "      <td>9.010505</td>\n",
       "      <td>10.233579</td>\n",
       "      <td>4.448728</td>\n",
       "      <td>2.769683</td>\n",
       "      <td>1.572564</td>\n",
       "      <td>2.830296e+11</td>\n",
       "    </tr>\n",
       "    <tr>\n",
       "      <td>std</td>\n",
       "      <td>3721.74417</td>\n",
       "      <td>38.938307</td>\n",
       "      <td>41.405896</td>\n",
       "      <td>13.226081</td>\n",
       "      <td>52.881979</td>\n",
       "      <td>19.414232</td>\n",
       "      <td>8.992327</td>\n",
       "      <td>49.443500</td>\n",
       "      <td>19.435263</td>\n",
       "      <td>4.212755</td>\n",
       "      <td>49.281166</td>\n",
       "      <td>19.245723</td>\n",
       "      <td>2.223297</td>\n",
       "      <td>2.717386</td>\n",
       "      <td>2.401908</td>\n",
       "      <td>0.733801</td>\n",
       "      <td>1.280071</td>\n",
       "      <td>3.205835e+13</td>\n",
       "    </tr>\n",
       "    <tr>\n",
       "      <td>min</td>\n",
       "      <td>1.00000</td>\n",
       "      <td>1.000000</td>\n",
       "      <td>408.000000</td>\n",
       "      <td>0.000000</td>\n",
       "      <td>0.000000</td>\n",
       "      <td>0.000000</td>\n",
       "      <td>0.000000</td>\n",
       "      <td>0.000000</td>\n",
       "      <td>0.000000</td>\n",
       "      <td>0.000000</td>\n",
       "      <td>0.000000</td>\n",
       "      <td>0.000000</td>\n",
       "      <td>0.000000</td>\n",
       "      <td>0.000000</td>\n",
       "      <td>0.000000</td>\n",
       "      <td>0.000000</td>\n",
       "      <td>0.000000</td>\n",
       "      <td>3.400000e+01</td>\n",
       "    </tr>\n",
       "    <tr>\n",
       "      <td>25%</td>\n",
       "      <td>3223.75000</td>\n",
       "      <td>74.000000</td>\n",
       "      <td>411.500000</td>\n",
       "      <td>0.000000</td>\n",
       "      <td>145.000000</td>\n",
       "      <td>88.000000</td>\n",
       "      <td>24.653750</td>\n",
       "      <td>167.600000</td>\n",
       "      <td>87.250000</td>\n",
       "      <td>14.230000</td>\n",
       "      <td>168.200000</td>\n",
       "      <td>87.000000</td>\n",
       "      <td>7.530000</td>\n",
       "      <td>8.500000</td>\n",
       "      <td>3.000000</td>\n",
       "      <td>2.300000</td>\n",
       "      <td>1.000000</td>\n",
       "      <td>2.423911e+07</td>\n",
       "    </tr>\n",
       "    <tr>\n",
       "      <td>50%</td>\n",
       "      <td>6446.50000</td>\n",
       "      <td>100.000000</td>\n",
       "      <td>415.000000</td>\n",
       "      <td>0.000000</td>\n",
       "      <td>180.400000</td>\n",
       "      <td>100.000000</td>\n",
       "      <td>30.580000</td>\n",
       "      <td>201.300000</td>\n",
       "      <td>100.000000</td>\n",
       "      <td>17.110000</td>\n",
       "      <td>200.800000</td>\n",
       "      <td>100.000000</td>\n",
       "      <td>9.010000</td>\n",
       "      <td>10.300000</td>\n",
       "      <td>4.000000</td>\n",
       "      <td>2.780000</td>\n",
       "      <td>1.000000</td>\n",
       "      <td>3.240734e+07</td>\n",
       "    </tr>\n",
       "    <tr>\n",
       "      <td>75%</td>\n",
       "      <td>9669.25000</td>\n",
       "      <td>127.000000</td>\n",
       "      <td>462.500000</td>\n",
       "      <td>16.500000</td>\n",
       "      <td>215.500000</td>\n",
       "      <td>113.000000</td>\n",
       "      <td>36.650000</td>\n",
       "      <td>233.900000</td>\n",
       "      <td>113.000000</td>\n",
       "      <td>19.832500</td>\n",
       "      <td>233.300000</td>\n",
       "      <td>113.000000</td>\n",
       "      <td>10.490000</td>\n",
       "      <td>12.000000</td>\n",
       "      <td>6.000000</td>\n",
       "      <td>3.240000</td>\n",
       "      <td>2.000000</td>\n",
       "      <td>5.503037e+07</td>\n",
       "    </tr>\n",
       "    <tr>\n",
       "      <td>max</td>\n",
       "      <td>12892.00000</td>\n",
       "      <td>243.000000</td>\n",
       "      <td>510.000000</td>\n",
       "      <td>52.000000</td>\n",
       "      <td>351.500000</td>\n",
       "      <td>165.000000</td>\n",
       "      <td>59.640000</td>\n",
       "      <td>363.700000</td>\n",
       "      <td>170.000000</td>\n",
       "      <td>30.910000</td>\n",
       "      <td>395.000000</td>\n",
       "      <td>175.000000</td>\n",
       "      <td>17.770000</td>\n",
       "      <td>20.000000</td>\n",
       "      <td>20.000000</td>\n",
       "      <td>5.400000</td>\n",
       "      <td>9.000000</td>\n",
       "      <td>3.640000e+15</td>\n",
       "    </tr>\n",
       "  </tbody>\n",
       "</table>\n",
       "</div>"
      ],
      "text/plain": [
       "          recordID  account_length     area_code  number_vmail_messages  \\\n",
       "count  12892.00000    12892.000000  12892.000000           12892.000000   \n",
       "mean    6446.50000      100.788551    437.322797               7.930616   \n",
       "std     3721.74417       38.938307     41.405896              13.226081   \n",
       "min        1.00000        1.000000    408.000000               0.000000   \n",
       "25%     3223.75000       74.000000    411.500000               0.000000   \n",
       "50%     6446.50000      100.000000    415.000000               0.000000   \n",
       "75%     9669.25000      127.000000    462.500000              16.500000   \n",
       "max    12892.00000      243.000000    510.000000              52.000000   \n",
       "\n",
       "       total_day_minutes  total_day_calls  total_day_charge  \\\n",
       "count       12892.000000     12892.000000      12892.000000   \n",
       "mean          180.211247       100.157927         30.661140   \n",
       "std            52.881979        19.414232          8.992327   \n",
       "min             0.000000         0.000000          0.000000   \n",
       "25%           145.000000        88.000000         24.653750   \n",
       "50%           180.400000       100.000000         30.580000   \n",
       "75%           215.500000       113.000000         36.650000   \n",
       "max           351.500000       165.000000         59.640000   \n",
       "\n",
       "       total_eve_minutes  total_eve_calls  total_eve_charge  \\\n",
       "count       12892.000000     12892.000000      12892.000000   \n",
       "mean          200.957276       100.134231         17.065764   \n",
       "std            49.443500        19.435263          4.212755   \n",
       "min             0.000000         0.000000          0.000000   \n",
       "25%           167.600000        87.250000         14.230000   \n",
       "50%           201.300000       100.000000         17.110000   \n",
       "75%           233.900000       113.000000         19.832500   \n",
       "max           363.700000       170.000000         30.910000   \n",
       "\n",
       "       total_night_minutes  total_night_calls  total_night_charge  \\\n",
       "count         12892.000000       12892.000000        12892.000000   \n",
       "mean            200.632780         100.062791            9.010505   \n",
       "std              49.281166          19.245723            2.223297   \n",
       "min               0.000000           0.000000            0.000000   \n",
       "25%             168.200000          87.000000            7.530000   \n",
       "50%             200.800000         100.000000            9.010000   \n",
       "75%             233.300000         113.000000           10.490000   \n",
       "max             395.000000         175.000000           17.770000   \n",
       "\n",
       "       total_intl_minutes  total_intl_calls  total_intl_charge  \\\n",
       "count        12892.000000      12892.000000       12892.000000   \n",
       "mean            10.233579          4.448728           2.769683   \n",
       "std              2.717386          2.401908           0.733801   \n",
       "min              0.000000          0.000000           0.000000   \n",
       "25%              8.500000          3.000000           2.300000   \n",
       "50%             10.300000          4.000000           2.780000   \n",
       "75%             12.000000          6.000000           3.240000   \n",
       "max             20.000000         20.000000           5.400000   \n",
       "\n",
       "       number_customer_service_calls   customer_id  \n",
       "count                   12892.000000  1.289200e+04  \n",
       "mean                        1.572564  2.830296e+11  \n",
       "std                         1.280071  3.205835e+13  \n",
       "min                         0.000000  3.400000e+01  \n",
       "25%                         1.000000  2.423911e+07  \n",
       "50%                         1.000000  3.240734e+07  \n",
       "75%                         2.000000  5.503037e+07  \n",
       "max                         9.000000  3.640000e+15  "
      ]
     },
     "execution_count": 17,
     "metadata": {},
     "output_type": "execute_result"
    }
   ],
   "source": [
    "df.describe()"
   ]
  },
  {
   "cell_type": "code",
   "execution_count": 18,
   "metadata": {},
   "outputs": [
    {
     "data": {
      "image/png": "[encoded data removed]",
      "text/plain": [
       "<Figure size 720x576 with 20 Axes>"
      ]
     },
     "metadata": {
      "needs_background": "light"
     },
     "output_type": "display_data"
    }
   ],
   "source": [
    "# df.hist()\n",
    "# plt.show()\n",
    "df.hist(bins=50,sharey=False, sharex=False, figsize=(10,8))\n",
    "plt.show()"
   ]
  },
  {
   "cell_type": "code",
   "execution_count": 19,
   "metadata": {},
   "outputs": [],
   "source": [
    "# df.groupby([\"state\", \"churn\"]).size().unstack().plot(kind='bar', stacked=True, figsize=(30,10)) \n"
   ]
  },
  {
   "cell_type": "code",
   "execution_count": 20,
   "metadata": {},
   "outputs": [
    {
     "data": {
      "text/plain": [
       "<matplotlib.axes._subplots.AxesSubplot at 0x2290078a308>"
      ]
     },
     "execution_count": 20,
     "metadata": {},
     "output_type": "execute_result"
    },
    {
     "data": {
      "image/png": "[encoded data removed]",
      "text/plain": [
       "<Figure size 360x360 with 1 Axes>"
      ]
     },
     "metadata": {
      "needs_background": "light"
     },
     "output_type": "display_data"
    }
   ],
   "source": [
    "df.groupby([\"voice_mail_plan\", \"churn\"]).size().unstack().plot(kind='bar', stacked=True, figsize=(5,5)) "
   ]
  },
  {
   "cell_type": "code",
   "execution_count": 21,
   "metadata": {},
   "outputs": [
    {
     "data": {
      "text/plain": [
       "<function matplotlib.pyplot.show(*args, **kw)>"
      ]
     },
     "execution_count": 21,
     "metadata": {},
     "output_type": "execute_result"
    },
    {
     "data": {
      "image/png": "[encoded data removed]",
      "text/plain": [
       "<Figure size 432x288 with 1 Axes>"
      ]
     },
     "metadata": {
      "needs_background": "light"
     },
     "output_type": "display_data"
    }
   ],
   "source": [
    "# sns.pairplot(df)\n",
    "# y=df['churn'].value_counts()\n",
    "# sns.barplot(y.index,y.values)\n",
    "ax = sns.countplot(y=\"churn\", data=df)\n",
    "plt.title('Churn and Non-Churn Percentage ')\n",
    "plt.ylabel('Population')\n",
    "total=len(df['churn'])\n",
    "for i in ax.patches:\n",
    "    percentage='{:.1f}%'.format(100 * i.get_width()/total)\n",
    "#     x=i.get_x()+i.get_width()+0.02\n",
    "#     y=i.get_y()+i.get_height()/2\n",
    "    x = i.get_x() + i.get_width() / 2\n",
    "    y = i.get_y() - 0.02\n",
    "    ax.annotate(percentage,(x,y))\n",
    "plt.show"
   ]
  },
  {
   "cell_type": "code",
   "execution_count": 22,
   "metadata": {},
   "outputs": [
    {
     "name": "stdout",
     "output_type": "stream",
     "text": [
      "<class 'pandas.core.frame.DataFrame'>\n",
      "RangeIndex: 12892 entries, 0 to 12891\n",
      "Data columns (total 22 columns):\n",
      "recordID                         12892 non-null float64\n",
      "state                            12892 non-null object\n",
      "account_length                   12892 non-null float64\n",
      "area_code                        12892 non-null float64\n",
      "international_plan               12892 non-null object\n",
      "voice_mail_plan                  12892 non-null object\n",
      "number_vmail_messages            12892 non-null float64\n",
      "total_day_minutes                12892 non-null float64\n",
      "total_day_calls                  12892 non-null float64\n",
      "total_day_charge                 12892 non-null float64\n",
      "total_eve_minutes                12892 non-null float64\n",
      "total_eve_calls                  12892 non-null float64\n",
      "total_eve_charge                 12892 non-null float64\n",
      "total_night_minutes              12892 non-null float64\n",
      "total_night_calls                12892 non-null float64\n",
      "total_night_charge               12892 non-null float64\n",
      "total_intl_minutes               12892 non-null float64\n",
      "total_intl_calls                 12892 non-null float64\n",
      "total_intl_charge                12892 non-null float64\n",
      "number_customer_service_calls    12892 non-null float64\n",
      "churn                            12892 non-null object\n",
      "customer_id                      12892 non-null float64\n",
      "dtypes: float64(18), object(4)\n",
      "memory usage: 2.2+ MB\n"
     ]
    }
   ],
   "source": [
    "df.info()"
   ]
  },
  {
   "cell_type": "code",
   "execution_count": 23,
   "metadata": {},
   "outputs": [
    {
     "data": {
      "text/html": [
       "<div>\n",
       "<style scoped>\n",
       "    .dataframe tbody tr th:only-of-type {\n",
       "        vertical-align: middle;\n",
       "    }\n",
       "\n",
       "    .dataframe tbody tr th {\n",
       "        vertical-align: top;\n",
       "    }\n",
       "\n",
       "    .dataframe thead th {\n",
       "        text-align: right;\n",
       "    }\n",
       "</style>\n",
       "<table border=\"1\" class=\"dataframe\">\n",
       "  <thead>\n",
       "    <tr style=\"text-align: right;\">\n",
       "      <th></th>\n",
       "      <th>state</th>\n",
       "      <th>international_plan</th>\n",
       "      <th>voice_mail_plan</th>\n",
       "      <th>churn</th>\n",
       "    </tr>\n",
       "  </thead>\n",
       "  <tbody>\n",
       "    <tr>\n",
       "      <td>0</td>\n",
       "      <td>HI</td>\n",
       "      <td>no</td>\n",
       "      <td>no</td>\n",
       "      <td>no</td>\n",
       "    </tr>\n",
       "  </tbody>\n",
       "</table>\n",
       "</div>"
      ],
      "text/plain": [
       "  state international_plan voice_mail_plan churn\n",
       "0    HI                 no              no    no"
      ]
     },
     "execution_count": 23,
     "metadata": {},
     "output_type": "execute_result"
    }
   ],
   "source": [
    "df.select_dtypes(include='object').head(1)"
   ]
  },
  {
   "cell_type": "markdown",
   "metadata": {},
   "source": [
    "# LOGISTIC REGRESSION"
   ]
  },
  {
   "cell_type": "code",
   "execution_count": 24,
   "metadata": {},
   "outputs": [],
   "source": [
    "label_encoder=preprocessing.LabelEncoder()"
   ]
  },
  {
   "cell_type": "code",
   "execution_count": 25,
   "metadata": {},
   "outputs": [],
   "source": [
    "df['state'] = label_encoder.fit_transform(df['state'])\n",
    "df['international_plan'] = label_encoder.fit_transform(df['international_plan'])\n",
    "df['voice_mail_plan'] = label_encoder.fit_transform(df['voice_mail_plan'])"
   ]
  },
  {
   "cell_type": "code",
   "execution_count": 26,
   "metadata": {},
   "outputs": [
    {
     "data": {
      "text/plain": [
       "recordID                         float64\n",
       "state                              int32\n",
       "account_length                   float64\n",
       "area_code                        float64\n",
       "international_plan                 int32\n",
       "voice_mail_plan                    int32\n",
       "number_vmail_messages            float64\n",
       "total_day_minutes                float64\n",
       "total_day_calls                  float64\n",
       "total_day_charge                 float64\n",
       "total_eve_minutes                float64\n",
       "total_eve_calls                  float64\n",
       "total_eve_charge                 float64\n",
       "total_night_minutes              float64\n",
       "total_night_calls                float64\n",
       "total_night_charge               float64\n",
       "total_intl_minutes               float64\n",
       "total_intl_calls                 float64\n",
       "total_intl_charge                float64\n",
       "number_customer_service_calls    float64\n",
       "churn                             object\n",
       "customer_id                      float64\n",
       "dtype: object"
      ]
     },
     "execution_count": 26,
     "metadata": {},
     "output_type": "execute_result"
    }
   ],
   "source": [
    "df.dtypes"
   ]
  },
  {
   "cell_type": "code",
   "execution_count": 27,
   "metadata": {},
   "outputs": [],
   "source": [
    "df.drop([\"recordID\",\"customer_id\"],inplace=True,axis=1)"
   ]
  },
  {
   "cell_type": "code",
   "execution_count": 28,
   "metadata": {
    "scrolled": true
   },
   "outputs": [
    {
     "data": {
      "text/html": [
       "<div>\n",
       "<style scoped>\n",
       "    .dataframe tbody tr th:only-of-type {\n",
       "        vertical-align: middle;\n",
       "    }\n",
       "\n",
       "    .dataframe tbody tr th {\n",
       "        vertical-align: top;\n",
       "    }\n",
       "\n",
       "    .dataframe thead th {\n",
       "        text-align: right;\n",
       "    }\n",
       "</style>\n",
       "<table border=\"1\" class=\"dataframe\">\n",
       "  <thead>\n",
       "    <tr style=\"text-align: right;\">\n",
       "      <th></th>\n",
       "      <th>state</th>\n",
       "      <th>account_length</th>\n",
       "      <th>area_code</th>\n",
       "      <th>international_plan</th>\n",
       "      <th>voice_mail_plan</th>\n",
       "      <th>number_vmail_messages</th>\n",
       "      <th>total_day_minutes</th>\n",
       "      <th>total_day_calls</th>\n",
       "      <th>total_day_charge</th>\n",
       "      <th>total_eve_minutes</th>\n",
       "      <th>total_eve_calls</th>\n",
       "      <th>total_eve_charge</th>\n",
       "      <th>total_night_minutes</th>\n",
       "      <th>total_night_calls</th>\n",
       "      <th>total_night_charge</th>\n",
       "      <th>total_intl_minutes</th>\n",
       "      <th>total_intl_calls</th>\n",
       "      <th>total_intl_charge</th>\n",
       "      <th>number_customer_service_calls</th>\n",
       "      <th>churn</th>\n",
       "    </tr>\n",
       "  </thead>\n",
       "  <tbody>\n",
       "    <tr>\n",
       "      <td>0</td>\n",
       "      <td>11</td>\n",
       "      <td>101.0</td>\n",
       "      <td>510.0</td>\n",
       "      <td>0</td>\n",
       "      <td>0</td>\n",
       "      <td>0.0</td>\n",
       "      <td>70.9</td>\n",
       "      <td>123.0</td>\n",
       "      <td>12.05</td>\n",
       "      <td>244.8</td>\n",
       "      <td>73.0</td>\n",
       "      <td>18.01</td>\n",
       "      <td>236.0</td>\n",
       "      <td>73.0</td>\n",
       "      <td>10.62</td>\n",
       "      <td>10.6</td>\n",
       "      <td>3.0</td>\n",
       "      <td>2.86</td>\n",
       "      <td>3.0</td>\n",
       "      <td>no</td>\n",
       "    </tr>\n",
       "    <tr>\n",
       "      <td>1</td>\n",
       "      <td>26</td>\n",
       "      <td>137.0</td>\n",
       "      <td>510.0</td>\n",
       "      <td>0</td>\n",
       "      <td>0</td>\n",
       "      <td>0.0</td>\n",
       "      <td>182.8</td>\n",
       "      <td>86.0</td>\n",
       "      <td>38.01</td>\n",
       "      <td>244.8</td>\n",
       "      <td>139.0</td>\n",
       "      <td>20.81</td>\n",
       "      <td>94.2</td>\n",
       "      <td>81.0</td>\n",
       "      <td>4.24</td>\n",
       "      <td>9.5</td>\n",
       "      <td>7.0</td>\n",
       "      <td>2.57</td>\n",
       "      <td>0.0</td>\n",
       "      <td>no</td>\n",
       "    </tr>\n",
       "    <tr>\n",
       "      <td>2</td>\n",
       "      <td>32</td>\n",
       "      <td>103.0</td>\n",
       "      <td>408.0</td>\n",
       "      <td>0</td>\n",
       "      <td>1</td>\n",
       "      <td>29.0</td>\n",
       "      <td>294.7</td>\n",
       "      <td>95.0</td>\n",
       "      <td>50.10</td>\n",
       "      <td>237.3</td>\n",
       "      <td>105.0</td>\n",
       "      <td>20.17</td>\n",
       "      <td>300.3</td>\n",
       "      <td>127.0</td>\n",
       "      <td>13.51</td>\n",
       "      <td>13.7</td>\n",
       "      <td>6.0</td>\n",
       "      <td>3.70</td>\n",
       "      <td>1.0</td>\n",
       "      <td>no</td>\n",
       "    </tr>\n",
       "    <tr>\n",
       "      <td>3</td>\n",
       "      <td>32</td>\n",
       "      <td>105.5</td>\n",
       "      <td>415.0</td>\n",
       "      <td>0</td>\n",
       "      <td>0</td>\n",
       "      <td>0.0</td>\n",
       "      <td>216.8</td>\n",
       "      <td>123.0</td>\n",
       "      <td>41.83</td>\n",
       "      <td>126.4</td>\n",
       "      <td>88.0</td>\n",
       "      <td>10.74</td>\n",
       "      <td>220.6</td>\n",
       "      <td>82.0</td>\n",
       "      <td>9.93</td>\n",
       "      <td>15.7</td>\n",
       "      <td>2.0</td>\n",
       "      <td>4.24</td>\n",
       "      <td>1.0</td>\n",
       "      <td>no</td>\n",
       "    </tr>\n",
       "    <tr>\n",
       "      <td>4</td>\n",
       "      <td>40</td>\n",
       "      <td>108.0</td>\n",
       "      <td>415.0</td>\n",
       "      <td>0</td>\n",
       "      <td>0</td>\n",
       "      <td>0.0</td>\n",
       "      <td>197.4</td>\n",
       "      <td>78.0</td>\n",
       "      <td>33.56</td>\n",
       "      <td>124.0</td>\n",
       "      <td>101.0</td>\n",
       "      <td>10.54</td>\n",
       "      <td>221.8</td>\n",
       "      <td>107.0</td>\n",
       "      <td>9.20</td>\n",
       "      <td>7.7</td>\n",
       "      <td>4.0</td>\n",
       "      <td>2.08</td>\n",
       "      <td>1.0</td>\n",
       "      <td>no</td>\n",
       "    </tr>\n",
       "  </tbody>\n",
       "</table>\n",
       "</div>"
      ],
      "text/plain": [
       "   state  account_length  area_code  international_plan  voice_mail_plan  \\\n",
       "0     11           101.0      510.0                   0                0   \n",
       "1     26           137.0      510.0                   0                0   \n",
       "2     32           103.0      408.0                   0                1   \n",
       "3     32           105.5      415.0                   0                0   \n",
       "4     40           108.0      415.0                   0                0   \n",
       "\n",
       "   number_vmail_messages  total_day_minutes  total_day_calls  \\\n",
       "0                    0.0               70.9            123.0   \n",
       "1                    0.0              182.8             86.0   \n",
       "2                   29.0              294.7             95.0   \n",
       "3                    0.0              216.8            123.0   \n",
       "4                    0.0              197.4             78.0   \n",
       "\n",
       "   total_day_charge  total_eve_minutes  total_eve_calls  total_eve_charge  \\\n",
       "0             12.05              244.8             73.0             18.01   \n",
       "1             38.01              244.8            139.0             20.81   \n",
       "2             50.10              237.3            105.0             20.17   \n",
       "3             41.83              126.4             88.0             10.74   \n",
       "4             33.56              124.0            101.0             10.54   \n",
       "\n",
       "   total_night_minutes  total_night_calls  total_night_charge  \\\n",
       "0                236.0               73.0               10.62   \n",
       "1                 94.2               81.0                4.24   \n",
       "2                300.3              127.0               13.51   \n",
       "3                220.6               82.0                9.93   \n",
       "4                221.8              107.0                9.20   \n",
       "\n",
       "   total_intl_minutes  total_intl_calls  total_intl_charge  \\\n",
       "0                10.6               3.0               2.86   \n",
       "1                 9.5               7.0               2.57   \n",
       "2                13.7               6.0               3.70   \n",
       "3                15.7               2.0               4.24   \n",
       "4                 7.7               4.0               2.08   \n",
       "\n",
       "   number_customer_service_calls churn  \n",
       "0                            3.0    no  \n",
       "1                            0.0    no  \n",
       "2                            1.0    no  \n",
       "3                            1.0    no  \n",
       "4                            1.0    no  "
      ]
     },
     "execution_count": 28,
     "metadata": {},
     "output_type": "execute_result"
    }
   ],
   "source": [
    "df.head()"
   ]
  },
  {
   "cell_type": "code",
   "execution_count": 29,
   "metadata": {},
   "outputs": [],
   "source": [
    "# X = df.as_matrix().astype(np.float)\n",
    "# scaler=preprocessing.StandardScaler()\n",
    "# X=scaler.fit_transform(X)\n",
    "df = df.apply(preprocessing.LabelEncoder().fit_transform)"
   ]
  },
  {
   "cell_type": "code",
   "execution_count": 30,
   "metadata": {},
   "outputs": [],
   "source": [
    "from sklearn.model_selection import train_test_split"
   ]
  },
  {
   "cell_type": "code",
   "execution_count": 31,
   "metadata": {},
   "outputs": [],
   "source": [
    "X=df.iloc[:,:19]\n",
    "y=df.iloc[:,19]"
   ]
  },
  {
   "cell_type": "code",
   "execution_count": 32,
   "metadata": {},
   "outputs": [],
   "source": [
    "x_train, x_test, y_train, y_test = train_test_split(X,y,test_size=0.3)"
   ]
  },
  {
   "cell_type": "code",
   "execution_count": 33,
   "metadata": {},
   "outputs": [
    {
     "data": {
      "text/plain": [
       "LogisticRegression(C=1.0, class_weight=None, dual=False, fit_intercept=True,\n",
       "                   intercept_scaling=1, l1_ratio=None, max_iter=10000,\n",
       "                   multi_class='auto', n_jobs=None, penalty='l2',\n",
       "                   random_state=10, solver='lbfgs', tol=0.0001, verbose=0,\n",
       "                   warm_start=False)"
      ]
     },
     "execution_count": 33,
     "metadata": {},
     "output_type": "execute_result"
    }
   ],
   "source": [
    "from sklearn.linear_model import LogisticRegression\n",
    "model=LogisticRegression(random_state=10,max_iter=10000)\n",
    "model.fit(x_train,y_train)"
   ]
  },
  {
   "cell_type": "code",
   "execution_count": 34,
   "metadata": {},
   "outputs": [],
   "source": [
    "pred=model.predict(x_test)"
   ]
  },
  {
   "cell_type": "code",
   "execution_count": 35,
   "metadata": {},
   "outputs": [
    {
     "data": {
      "text/plain": [
       "array([[ 3.99453354e-03,  5.33854912e-04, -2.46131745e-03,\n",
       "         1.58599128e+00, -6.90307698e-01, -2.42208722e-03,\n",
       "         3.95491121e-04,  1.70066434e-03,  4.18158813e-04,\n",
       "         2.93127139e-04,  9.86076607e-05,  3.12245001e-04,\n",
       "         2.40184704e-05,  5.14125363e-04,  4.66731832e-04,\n",
       "         6.24104507e-04, -7.67494777e-03,  1.00144210e-03,\n",
       "         4.91488540e-02]])"
      ]
     },
     "execution_count": 35,
     "metadata": {},
     "output_type": "execute_result"
    }
   ],
   "source": [
    "model.coef_"
   ]
  },
  {
   "cell_type": "code",
   "execution_count": 36,
   "metadata": {},
   "outputs": [
    {
     "data": {
      "text/plain": [
       "array([-5.77817501])"
      ]
     },
     "execution_count": 36,
     "metadata": {},
     "output_type": "execute_result"
    }
   ],
   "source": [
    "model.intercept_"
   ]
  },
  {
   "cell_type": "code",
   "execution_count": 37,
   "metadata": {},
   "outputs": [],
   "source": [
    "from sklearn.metrics import confusion_matrix"
   ]
  },
  {
   "cell_type": "code",
   "execution_count": 38,
   "metadata": {},
   "outputs": [
    {
     "name": "stdout",
     "output_type": "stream",
     "text": [
      "[[3277   49]\n",
      " [ 493   49]]\n"
     ]
    }
   ],
   "source": [
    "con_mat=confusion_matrix(y_test,pred)\n",
    "print(con_mat)"
   ]
  },
  {
   "cell_type": "code",
   "execution_count": 39,
   "metadata": {},
   "outputs": [
    {
     "name": "stdout",
     "output_type": "stream",
     "text": [
      "[[  49  493]\n",
      " [  49 3277]]\n"
     ]
    }
   ],
   "source": [
    "labels=[1,0]\n",
    "con_mat=confusion_matrix(y_test,pred,labels=labels)\n",
    "print(con_mat)"
   ]
  },
  {
   "cell_type": "code",
   "execution_count": 40,
   "metadata": {},
   "outputs": [
    {
     "data": {
      "text/plain": [
       "[Text(0, 0.5, 'Yes'), Text(0, 1.5, 'No')]"
      ]
     },
     "execution_count": 40,
     "metadata": {},
     "output_type": "execute_result"
    },
    {
     "data": {
      "image/png": "[encoded data removed]",
      "text/plain": [
       "<Figure size 432x288 with 2 Axes>"
      ]
     },
     "metadata": {
      "needs_background": "light"
     },
     "output_type": "display_data"
    }
   ],
   "source": [
    "# import seaborn as sns\n",
    "# import matplotlib.pyplot as plt     \n",
    "ax= plt.subplot()\n",
    "sns.heatmap(con_mat, annot=True, ax = ax)#annot=True to annotate cells\n",
    "\n",
    "# labels, title and ticks\n",
    "ax.set_xlabel('Predicted labels')\n",
    "ax.set_ylabel('True labels')\n",
    "ax.set_title('Confusion Matrix')\n",
    "ax.xaxis.set_ticklabels(['Yes', 'No'])\n",
    "ax.yaxis.set_ticklabels(['Yes', 'No'])\n"
   ]
  },
  {
   "cell_type": "code",
   "execution_count": 41,
   "metadata": {},
   "outputs": [
    {
     "name": "stdout",
     "output_type": "stream",
     "text": [
      "0.859875904860393\n"
     ]
    }
   ],
   "source": [
    "accuracy=(con_mat[0,0]+con_mat[1,1])/y_test.size\n",
    "print(accuracy)"
   ]
  },
  {
   "cell_type": "code",
   "execution_count": 42,
   "metadata": {},
   "outputs": [],
   "source": [
    "import matplotlib.pyplot as plt\n",
    "from sklearn.metrics import roc_curve, roc_auc_score,auc"
   ]
  },
  {
   "cell_type": "code",
   "execution_count": 43,
   "metadata": {},
   "outputs": [
    {
     "data": {
      "text/plain": [
       "Text(0.5, 1.0, 'ROC Curve')"
      ]
     },
     "execution_count": 43,
     "metadata": {},
     "output_type": "execute_result"
    },
    {
     "data": {
      "image/png": "[encoded data removed]",
      "text/plain": [
       "<Figure size 432x288 with 1 Axes>"
      ]
     },
     "metadata": {
      "needs_background": "light"
     },
     "output_type": "display_data"
    }
   ],
   "source": [
    "probs=model.predict_proba(x_test)\n",
    "preds=probs[:,1]\n",
    "fpr,tpr,threshold=roc_curve(y_test,preds,drop_intermediate=False)\n",
    "roc_auc=auc(fpr,tpr)\n",
    "plt.figure()\n",
    "plt.plot(fpr,tpr,'r',label='AUC=%0.2f'%roc_auc)\n",
    "plt.plot([0,1],[0,1],color='blue',lw=2,linestyle='--')\n",
    "plt.legend(loc='lower right')\n",
    "plt.xlabel('FPR')\n",
    "plt.ylabel('TPR')\n",
    "plt.title('ROC Curve')"
   ]
  },
  {
   "cell_type": "code",
   "execution_count": 44,
   "metadata": {},
   "outputs": [
    {
     "name": "stdout",
     "output_type": "stream",
     "text": [
      "ROC_AUC Score:  0.7415587354911433\n"
     ]
    }
   ],
   "source": [
    "print(\"ROC_AUC Score: \",roc_auc_score(y_test,preds))"
   ]
  },
  {
   "cell_type": "code",
   "execution_count": 45,
   "metadata": {},
   "outputs": [
    {
     "data": {
      "text/plain": [
       "0    11069\n",
       "1     1823\n",
       "Name: churn, dtype: int64"
      ]
     },
     "execution_count": 45,
     "metadata": {},
     "output_type": "execute_result"
    }
   ],
   "source": [
    "df[\"churn\"].value_counts()"
   ]
  },
  {
   "cell_type": "markdown",
   "metadata": {},
   "source": [
    "# KNN "
   ]
  },
  {
   "cell_type": "code",
   "execution_count": 46,
   "metadata": {},
   "outputs": [],
   "source": [
    "X=df.iloc[:,:19]\n",
    "Y=df.iloc[:,19]\n",
    "test_size=0.2\n",
    "seed=10\n",
    "X_train, X_test, y_train, y_test = train_test_split(X, Y, test_size = test_size, random_state = seed)"
   ]
  },
  {
   "cell_type": "code",
   "execution_count": 47,
   "metadata": {},
   "outputs": [
    {
     "data": {
      "text/plain": [
       "(10313, 10313)"
      ]
     },
     "execution_count": 47,
     "metadata": {},
     "output_type": "execute_result"
    }
   ],
   "source": [
    "len(X_train), len(y_train)"
   ]
  },
  {
   "cell_type": "code",
   "execution_count": 48,
   "metadata": {},
   "outputs": [],
   "source": [
    "from sklearn.neighbors import KNeighborsClassifier"
   ]
  },
  {
   "cell_type": "code",
   "execution_count": 49,
   "metadata": {},
   "outputs": [
    {
     "data": {
      "text/plain": [
       "KNeighborsClassifier(algorithm='auto', leaf_size=30, metric='minkowski',\n",
       "                     metric_params=None, n_jobs=None, n_neighbors=10, p=2,\n",
       "                     weights='uniform')"
      ]
     },
     "execution_count": 49,
     "metadata": {},
     "output_type": "execute_result"
    }
   ],
   "source": [
    "knn = KNeighborsClassifier(n_neighbors=10)\n",
    "knn.fit(X_train, y_train)"
   ]
  },
  {
   "cell_type": "code",
   "execution_count": 50,
   "metadata": {},
   "outputs": [
    {
     "data": {
      "text/plain": [
       "0.8681659557968204"
      ]
     },
     "execution_count": 50,
     "metadata": {},
     "output_type": "execute_result"
    }
   ],
   "source": [
    "knn.score(X_test, y_test) #Accuracy on test data"
   ]
  },
  {
   "cell_type": "code",
   "execution_count": 51,
   "metadata": {},
   "outputs": [
    {
     "data": {
      "text/plain": [
       "0.8837389702317463"
      ]
     },
     "execution_count": 51,
     "metadata": {},
     "output_type": "execute_result"
    }
   ],
   "source": [
    "knn.score(X_train,y_train) #Accuracy on train data"
   ]
  },
  {
   "cell_type": "code",
   "execution_count": 52,
   "metadata": {},
   "outputs": [
    {
     "name": "stdout",
     "output_type": "stream",
     "text": [
      "[[  69  307]\n",
      " [  33 2170]]\n"
     ]
    }
   ],
   "source": [
    "pred=knn.predict(X_test)\n",
    "from sklearn.metrics import confusion_matrix\n",
    "print(confusion_matrix(y_test,pred, labels = [1,0]))"
   ]
  },
  {
   "cell_type": "code",
   "execution_count": 53,
   "metadata": {},
   "outputs": [
    {
     "data": {
      "text/plain": [
       "{'n_neighbors': 17}"
      ]
     },
     "execution_count": 53,
     "metadata": {},
     "output_type": "execute_result"
    }
   ],
   "source": [
    "from sklearn.model_selection import GridSearchCV\n",
    "params = {'n_neighbors':range(1,95)}\n",
    "\n",
    "knn = KNeighborsClassifier()\n",
    "\n",
    "model = GridSearchCV(knn, params, cv=5)\n",
    "model.fit(X_train, y_train)\n",
    "model.best_params_"
   ]
  },
  {
   "cell_type": "code",
   "execution_count": 54,
   "metadata": {},
   "outputs": [],
   "source": [
    "score = {}\n",
    "for i in range(1,40):\n",
    "    knn = KNeighborsClassifier(n_neighbors=i)\n",
    "    knn.fit(X_train, y_train)\n",
    "    score[i] = knn.score(X_test, y_test)\n",
    "\n",
    "#score\n",
    "\n",
    "error = {}\n",
    "\n",
    "# Calculating error for K values between 1 and 40\n",
    "for i in range(1, 40):  \n",
    "    knn = KNeighborsClassifier(n_neighbors=i)\n",
    "    knn.fit(X_train, y_train)\n",
    "    pred_i = knn.predict(X_test)\n",
    "    error[i]=np.mean(pred_i != y_test)"
   ]
  },
  {
   "cell_type": "code",
   "execution_count": 55,
   "metadata": {},
   "outputs": [
    {
     "data": {
      "image/png": "[encoded data removed]",
      "text/plain": [
       "<Figure size 792x288 with 2 Axes>"
      ]
     },
     "metadata": {
      "needs_background": "light"
     },
     "output_type": "display_data"
    }
   ],
   "source": [
    " x = list(score.keys())\n",
    "y=list(score.values())\n",
    "plt.figure(figsize = (11, 4))\n",
    "plt.subplot(1,2,1,)\n",
    "plt.plot(x, y, color='blue', linestyle='dashed', marker='o',  \n",
    "         markerfacecolor='red', markersize=8)\n",
    "plt.xlabel('k')\n",
    "plt.ylabel('Accuracy')\n",
    "\n",
    "plt.subplot(1,2,2)\n",
    "plt.plot(list(error.keys()), list(error.values()), color='red', linestyle='dashed', marker='o',  \n",
    "         markerfacecolor='blue', markersize=8)\n",
    "plt.xlabel('k')\n",
    "plt.ylabel('Error Rate')\n",
    "\n",
    "plt.show()"
   ]
  },
  {
   "cell_type": "markdown",
   "metadata": {},
   "source": [
    "# SVC"
   ]
  },
  {
   "cell_type": "code",
   "execution_count": 56,
   "metadata": {},
   "outputs": [],
   "source": [
    "# # df['churn']\n",
    "# x=df.iloc[:,:19]\n",
    "# y=df.iloc[:,19]"
   ]
  },
  {
   "cell_type": "code",
   "execution_count": 57,
   "metadata": {},
   "outputs": [],
   "source": [
    "# X = x[y < 2]\n",
    "# Y = y[y < 2]"
   ]
  },
  {
   "cell_type": "code",
   "execution_count": 58,
   "metadata": {},
   "outputs": [],
   "source": [
    "# X0 = X[Y == 0]\n",
    "# X1 = X[Y == 1]\n",
    "# plt.figure(figsize=(7,4)) #change figure-size for easier viewing\n",
    "# plt.scatter(X0[:,0],X0[:,1], color = 'red')\n",
    "# plt.scatter(X1[:,0],X1[:,1], color = 'blue')"
   ]
  },
  {
   "cell_type": "code",
   "execution_count": 59,
   "metadata": {},
   "outputs": [],
   "source": [
    "# from sklearn.model_selection import train_test_split\n",
    "# seed = 10\n",
    "# X_train, X_test, y_train, y_test = train_test_split(X, Y, test_size=0.2, random_state=seed)"
   ]
  },
  {
   "cell_type": "code",
   "execution_count": 60,
   "metadata": {},
   "outputs": [],
   "source": [
    "# from sklearn.svm import SVC\n",
    "# svm_inst = SVC(kernel='linear')"
   ]
  },
  {
   "cell_type": "code",
   "execution_count": 61,
   "metadata": {},
   "outputs": [],
   "source": [
    "# svm_inst.fit(X_train,y_train)"
   ]
  },
  {
   "cell_type": "code",
   "execution_count": 62,
   "metadata": {},
   "outputs": [],
   "source": [
    "# y_pred = svm_inst.predict(X_test)"
   ]
  },
  {
   "cell_type": "code",
   "execution_count": 63,
   "metadata": {},
   "outputs": [],
   "source": [
    "# from sklearn.metrics import accuracy_score\n",
    "# accuracy_score(y_test, y_pred)"
   ]
  },
  {
   "cell_type": "code",
   "execution_count": 64,
   "metadata": {},
   "outputs": [],
   "source": [
    "\n",
    "from sklearn.preprocessing import StandardScaler\n",
    "\n",
    "from sklearn.metrics import confusion_matrix , classification_report\n",
    "from sklearn.metrics import roc_curve , auc\n",
    "from sklearn.svm import SVC\n"
   ]
  },
  {
   "cell_type": "code",
   "execution_count": 65,
   "metadata": {},
   "outputs": [],
   "source": [
    "X_train, X_test, y_train, y_test = train_test_split(X, Y, test_size = 0.25, random_state = 0)"
   ]
  },
  {
   "cell_type": "code",
   "execution_count": 66,
   "metadata": {},
   "outputs": [],
   "source": [
    "sc= StandardScaler()\n",
    "X_train = sc.fit_transform(X_train)\n",
    "X_train=pd.DataFrame(X_train,columns=X.columns)\n",
    "X_test=sc.transform(X_test)"
   ]
  },
  {
   "cell_type": "code",
   "execution_count": 67,
   "metadata": {},
   "outputs": [
    {
     "data": {
      "text/html": [
       "<div>\n",
       "<style scoped>\n",
       "    .dataframe tbody tr th:only-of-type {\n",
       "        vertical-align: middle;\n",
       "    }\n",
       "\n",
       "    .dataframe tbody tr th {\n",
       "        vertical-align: top;\n",
       "    }\n",
       "\n",
       "    .dataframe thead th {\n",
       "        text-align: right;\n",
       "    }\n",
       "</style>\n",
       "<table border=\"1\" class=\"dataframe\">\n",
       "  <thead>\n",
       "    <tr style=\"text-align: right;\">\n",
       "      <th></th>\n",
       "      <th>state</th>\n",
       "      <th>account_length</th>\n",
       "      <th>area_code</th>\n",
       "      <th>international_plan</th>\n",
       "      <th>voice_mail_plan</th>\n",
       "      <th>number_vmail_messages</th>\n",
       "      <th>total_day_minutes</th>\n",
       "      <th>total_day_calls</th>\n",
       "      <th>total_day_charge</th>\n",
       "      <th>total_eve_minutes</th>\n",
       "      <th>total_eve_calls</th>\n",
       "      <th>total_eve_charge</th>\n",
       "      <th>total_night_minutes</th>\n",
       "      <th>total_night_calls</th>\n",
       "      <th>total_night_charge</th>\n",
       "      <th>total_intl_minutes</th>\n",
       "      <th>total_intl_calls</th>\n",
       "      <th>total_intl_charge</th>\n",
       "      <th>number_customer_service_calls</th>\n",
       "    </tr>\n",
       "  </thead>\n",
       "  <tbody>\n",
       "    <tr>\n",
       "      <td>0</td>\n",
       "      <td>0.750617</td>\n",
       "      <td>-1.215181</td>\n",
       "      <td>-1.407372</td>\n",
       "      <td>-0.330665</td>\n",
       "      <td>-0.614608</td>\n",
       "      <td>1.616181</td>\n",
       "      <td>-1.253268</td>\n",
       "      <td>-0.191731</td>\n",
       "      <td>-1.286568</td>\n",
       "      <td>0.305208</td>\n",
       "      <td>-0.447024</td>\n",
       "      <td>0.293353</td>\n",
       "      <td>-0.925006</td>\n",
       "      <td>0.977905</td>\n",
       "      <td>-0.910563</td>\n",
       "      <td>-0.790615</td>\n",
       "      <td>0.297839</td>\n",
       "      <td>-0.840296</td>\n",
       "      <td>0.468274</td>\n",
       "    </tr>\n",
       "    <tr>\n",
       "      <td>1</td>\n",
       "      <td>1.222309</td>\n",
       "      <td>-0.031477</td>\n",
       "      <td>-1.407372</td>\n",
       "      <td>-0.330665</td>\n",
       "      <td>-0.614608</td>\n",
       "      <td>-0.607822</td>\n",
       "      <td>-0.112199</td>\n",
       "      <td>1.213664</td>\n",
       "      <td>-0.098137</td>\n",
       "      <td>-0.456457</td>\n",
       "      <td>-0.447024</td>\n",
       "      <td>-0.466481</td>\n",
       "      <td>1.520943</td>\n",
       "      <td>-0.586414</td>\n",
       "      <td>1.520479</td>\n",
       "      <td>-1.743464</td>\n",
       "      <td>1.664403</td>\n",
       "      <td>-1.707036</td>\n",
       "      <td>1.637831</td>\n",
       "    </tr>\n",
       "    <tr>\n",
       "      <td>2</td>\n",
       "      <td>-0.125382</td>\n",
       "      <td>-0.275446</td>\n",
       "      <td>-0.726256</td>\n",
       "      <td>-0.330665</td>\n",
       "      <td>-0.614608</td>\n",
       "      <td>-0.607822</td>\n",
       "      <td>-0.619828</td>\n",
       "      <td>1.213664</td>\n",
       "      <td>-0.627069</td>\n",
       "      <td>0.690665</td>\n",
       "      <td>-0.669228</td>\n",
       "      <td>1.929406</td>\n",
       "      <td>0.756864</td>\n",
       "      <td>1.039858</td>\n",
       "      <td>1.669417</td>\n",
       "      <td>-1.643164</td>\n",
       "      <td>-1.133799</td>\n",
       "      <td>-1.623572</td>\n",
       "      <td>1.247978</td>\n",
       "    </tr>\n",
       "    <tr>\n",
       "      <td>3</td>\n",
       "      <td>0.750617</td>\n",
       "      <td>-1.612761</td>\n",
       "      <td>-0.045140</td>\n",
       "      <td>-0.330665</td>\n",
       "      <td>-0.614608</td>\n",
       "      <td>-0.607822</td>\n",
       "      <td>0.316434</td>\n",
       "      <td>-0.397013</td>\n",
       "      <td>1.050325</td>\n",
       "      <td>-0.350071</td>\n",
       "      <td>-0.288306</td>\n",
       "      <td>-0.361734</td>\n",
       "      <td>0.580768</td>\n",
       "      <td>-0.679344</td>\n",
       "      <td>0.595626</td>\n",
       "      <td>0.232444</td>\n",
       "      <td>0.297839</td>\n",
       "      <td>0.244733</td>\n",
       "      <td>1.247978</td>\n",
       "    </tr>\n",
       "    <tr>\n",
       "      <td>4</td>\n",
       "      <td>0.818002</td>\n",
       "      <td>0.257672</td>\n",
       "      <td>1.453315</td>\n",
       "      <td>-0.330665</td>\n",
       "      <td>-0.614608</td>\n",
       "      <td>-0.607822</td>\n",
       "      <td>0.727511</td>\n",
       "      <td>-1.249724</td>\n",
       "      <td>0.742559</td>\n",
       "      <td>-1.851814</td>\n",
       "      <td>1.933737</td>\n",
       "      <td>-1.814895</td>\n",
       "      <td>-1.136918</td>\n",
       "      <td>-1.624131</td>\n",
       "      <td>-1.124360</td>\n",
       "      <td>0.743973</td>\n",
       "      <td>0.037541</td>\n",
       "      <td>0.739096</td>\n",
       "      <td>0.468274</td>\n",
       "    </tr>\n",
       "  </tbody>\n",
       "</table>\n",
       "</div>"
      ],
      "text/plain": [
       "      state  account_length  area_code  international_plan  voice_mail_plan  \\\n",
       "0  0.750617       -1.215181  -1.407372           -0.330665        -0.614608   \n",
       "1  1.222309       -0.031477  -1.407372           -0.330665        -0.614608   \n",
       "2 -0.125382       -0.275446  -0.726256           -0.330665        -0.614608   \n",
       "3  0.750617       -1.612761  -0.045140           -0.330665        -0.614608   \n",
       "4  0.818002        0.257672   1.453315           -0.330665        -0.614608   \n",
       "\n",
       "   number_vmail_messages  total_day_minutes  total_day_calls  \\\n",
       "0               1.616181          -1.253268        -0.191731   \n",
       "1              -0.607822          -0.112199         1.213664   \n",
       "2              -0.607822          -0.619828         1.213664   \n",
       "3              -0.607822           0.316434        -0.397013   \n",
       "4              -0.607822           0.727511        -1.249724   \n",
       "\n",
       "   total_day_charge  total_eve_minutes  total_eve_calls  total_eve_charge  \\\n",
       "0         -1.286568           0.305208        -0.447024          0.293353   \n",
       "1         -0.098137          -0.456457        -0.447024         -0.466481   \n",
       "2         -0.627069           0.690665        -0.669228          1.929406   \n",
       "3          1.050325          -0.350071        -0.288306         -0.361734   \n",
       "4          0.742559          -1.851814         1.933737         -1.814895   \n",
       "\n",
       "   total_night_minutes  total_night_calls  total_night_charge  \\\n",
       "0            -0.925006           0.977905           -0.910563   \n",
       "1             1.520943          -0.586414            1.520479   \n",
       "2             0.756864           1.039858            1.669417   \n",
       "3             0.580768          -0.679344            0.595626   \n",
       "4            -1.136918          -1.624131           -1.124360   \n",
       "\n",
       "   total_intl_minutes  total_intl_calls  total_intl_charge  \\\n",
       "0           -0.790615          0.297839          -0.840296   \n",
       "1           -1.743464          1.664403          -1.707036   \n",
       "2           -1.643164         -1.133799          -1.623572   \n",
       "3            0.232444          0.297839           0.244733   \n",
       "4            0.743973          0.037541           0.739096   \n",
       "\n",
       "   number_customer_service_calls  \n",
       "0                       0.468274  \n",
       "1                       1.637831  \n",
       "2                       1.247978  \n",
       "3                       1.247978  \n",
       "4                       0.468274  "
      ]
     },
     "execution_count": 67,
     "metadata": {},
     "output_type": "execute_result"
    }
   ],
   "source": [
    "X_train.head()"
   ]
  },
  {
   "cell_type": "code",
   "execution_count": 68,
   "metadata": {},
   "outputs": [
    {
     "data": {
      "text/plain": [
       "SVC(C=1.0, break_ties=False, cache_size=200, class_weight=None, coef0=0.0,\n",
       "    decision_function_shape='ovr', degree=3, gamma='scale', kernel='rbf',\n",
       "    max_iter=-1, probability=True, random_state=None, shrinking=True, tol=0.001,\n",
       "    verbose=False)"
      ]
     },
     "execution_count": 68,
     "metadata": {},
     "output_type": "execute_result"
    }
   ],
   "source": [
    "svm_classifier= SVC(probability=True)\n",
    "svm_classifier.fit(X_train,y_train)"
   ]
  },
  {
   "cell_type": "code",
   "execution_count": 69,
   "metadata": {},
   "outputs": [
    {
     "name": "stdout",
     "output_type": "stream",
     "text": [
      "              precision    recall  f1-score   support\n",
      "\n",
      "           0       0.92      0.99      0.95      2789\n",
      "           1       0.83      0.43      0.57       434\n",
      "\n",
      "    accuracy                           0.91      3223\n",
      "   macro avg       0.87      0.71      0.76      3223\n",
      "weighted avg       0.91      0.91      0.90      3223\n",
      "\n"
     ]
    }
   ],
   "source": [
    "# Predict\n",
    "y_pred_svm= svm_classifier.predict(X_test)\n",
    "#Classification Report\n",
    "print(classification_report(y_test,y_pred_svm))"
   ]
  },
  {
   "cell_type": "code",
   "execution_count": 70,
   "metadata": {},
   "outputs": [
    {
     "data": {
      "text/plain": [
       "Text(33.0, 0.5, 'predicted label')"
      ]
     },
     "execution_count": 70,
     "metadata": {},
     "output_type": "execute_result"
    },
    {
     "data": {
      "image/png": "[encoded data removed]",
      "text/plain": [
       "<Figure size 432x288 with 1 Axes>"
      ]
     },
     "metadata": {
      "needs_background": "light"
     },
     "output_type": "display_data"
    }
   ],
   "source": [
    "mat_svm = confusion_matrix(y_test, y_pred_svm)\n",
    "sns.heatmap(mat_svm.T, square=True, annot=True, fmt='d', cbar=False,\n",
    "          xticklabels=['No','Yes'],\n",
    "          yticklabels=['No','Yes'] )\n",
    "plt.xlabel('true label')\n",
    "plt.ylabel('predicted label')\n"
   ]
  },
  {
   "cell_type": "code",
   "execution_count": 71,
   "metadata": {},
   "outputs": [
    {
     "data": {
      "text/plain": [
       "<matplotlib.legend.Legend at 0x22900845248>"
      ]
     },
     "execution_count": 71,
     "metadata": {},
     "output_type": "execute_result"
    },
    {
     "data": {
      "image/png": "[encoded data removed]",
      "text/plain": [
       "<Figure size 432x288 with 1 Axes>"
      ]
     },
     "metadata": {
      "needs_background": "light"
     },
     "output_type": "display_data"
    }
   ],
   "source": [
    "y_pred_svm_proba=svm_classifier.predict_proba(X_test)[:,1]\n",
    "fpr_svm, tpr_svm, _svm = roc_curve(y_test, y_pred_svm_proba)\n",
    "roc_auc=auc(fpr_svm,tpr_svm)\n",
    "#Now Draw ROC using fpr , tpr\n",
    "plt.plot([0, 1], [0, 1], 'k--',label='Random')\n",
    "plt.plot(fpr,tpr,label='ROC curve (area = %0.2f)' %roc_auc)\n",
    "plt.xlabel('False positive rate')\n",
    "plt.ylabel('True positive rate')\n",
    "plt.title('SVM ROC curve')\n",
    "plt.legend(loc='best')"
   ]
  },
  {
   "cell_type": "code",
   "execution_count": null,
   "metadata": {},
   "outputs": [],
   "source": []
  }
 ],
 "metadata": {
  "kernelspec": {
   "display_name": "Python 3",
   "language": "python",
   "name": "python3"
  },
  "language_info": {
   "codemirror_mode": {
    "name": "ipython",
    "version": 3
   },
   "file_extension": ".py",
   "mimetype": "text/x-python",
   "name": "python",
   "nbconvert_exporter": "python",
   "pygments_lexer": "ipython3",
   "version": "3.7.4"
  }
 },
 "nbformat": 4,
 "nbformat_minor": 2
}
